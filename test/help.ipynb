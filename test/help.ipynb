{
 "cells": [
  {
   "cell_type": "code",
   "execution_count": 6,
   "id": "99a2ccd4",
   "metadata": {},
   "outputs": [],
   "source": [
    "from lxml import etree\n",
    "from lxml import html\n",
    "from os.path import join, split, exists\n",
    "from pathlib import Path\n",
    "from sys import stdout, stderr\n",
    "from json import dumps\n",
    "from os import environ, stat, chdir\n",
    "\n",
    "pak_root = Path.home()/\"wrx/ts/svgdom-ts\"\n",
    "wpt_root = Path(environ.get(\"WPT_ROOT\"))\n",
    "wpt_dest = pak_root / Path(environ.get(\"WPT_DEST\") or \"test/wpt\")\n",
    "chdir(pak_root)"
   ]
  },
  {
   "cell_type": "code",
   "execution_count": 30,
   "id": "39402f01",
   "metadata": {},
   "outputs": [
    {
     "name": "stdout",
     "output_type": "stream",
     "text": [
      "/media/biojet1/OS/pub/004/wpt-master/dom/nodes/append-on-Document.html\n"
     ]
    }
   ],
   "source": [
    "o = !find test/wpt -name '*.tap.mjs'\n",
    "for l in o:\n",
    "    p = Path(*l.split('/', 2)[-1].split('-', 2)) \n",
    "#     print(p, Path(p.stem).stem)\n",
    "    b = Path(p.stem).stem\n",
    "    wpt_file = wpt_root/p.parent/b\n",
    "    if wpt_file.exists():\n",
    "        print (wpt_file)\n",
    "        wpt_file.unlink()\n"
   ]
  }
 ],
 "metadata": {
  "kernelspec": {
   "display_name": "Python 3",
   "language": "python",
   "name": "python3"
  },
  "language_info": {
   "codemirror_mode": {
    "name": "ipython",
    "version": 3
   },
   "file_extension": ".py",
   "mimetype": "text/x-python",
   "name": "python",
   "nbconvert_exporter": "python",
   "pygments_lexer": "ipython3",
   "version": "3.8.10"
  }
 },
 "nbformat": 4,
 "nbformat_minor": 5
}
